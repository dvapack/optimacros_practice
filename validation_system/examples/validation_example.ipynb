{
 "cells": [
  {
   "cell_type": "markdown",
   "id": "da80ee68",
   "metadata": {},
   "source": [
    "В данном ноутбуке представлены примеры использования класса Validation"
   ]
  },
  {
   "cell_type": "code",
   "execution_count": 1,
   "id": "c3df2320",
   "metadata": {},
   "outputs": [],
   "source": [
    "from validation_system.dataloader import DataLoader\n",
    "from validation_system.validation import Validation"
   ]
  },
  {
   "cell_type": "markdown",
   "id": "f2b43218",
   "metadata": {},
   "source": [
    "Пример загрузки и обработки корректных данных"
   ]
  },
  {
   "cell_type": "code",
   "execution_count": 10,
   "id": "7f324542",
   "metadata": {},
   "outputs": [
    {
     "name": "stdout",
     "output_type": "stream",
     "text": [
      "Валидация гиперпараметров для модели croston_tsb прошла успешно\n",
      "Валидация гиперпараметров для модели elastic_net прошла успешно\n",
      "Валидация гиперпараметров для модели exp_smoothing прошла успешно\n",
      "Валидация гиперпараметров для модели holt прошла успешно\n",
      "Валидация гиперпараметров для модели holt_winters прошла успешно\n",
      "Валидация гиперпараметров для модели huber прошла успешно\n",
      "Валидация гиперпараметров для модели lasso прошла успешно\n",
      "Валидация гиперпараметров для модели polynomial прошла успешно\n",
      "Валидация гиперпараметров для модели ransac прошла успешно\n",
      "Валидация гиперпараметров для модели ridge прошла успешно\n",
      "Валидация гиперпараметров для модели rol_mean прошла успешно\n",
      "Валидация гиперпараметров для модели theil_sen прошла успешно\n",
      "Валидация гиперпараметров для модели const прошла успешно\n",
      "Валидация гиперпараметров для модели catboost прошла успешно\n",
      "Валидация гиперпараметров для модели sarima прошла успешно\n",
      "Валидация гиперпараметров для модели prophet прошла успешно\n",
      "Валидация гиперпараметров для модели random_forest прошла успешно\n",
      "Валидация гиперпараметров для модели symfit_fourier_fft прошла успешно\n"
     ]
    },
    {
     "data": {
      "text/plain": [
       "'2025_06_30_12_25_back_up_om_correct.csv'"
      ]
     },
     "execution_count": 10,
     "metadata": {},
     "output_type": "execute_result"
    }
   ],
   "source": [
    "dataloader = DataLoader(\"om_correct.csv\")\n",
    "models, hyperparams = dataloader.load_hyperparams_from_optimacros()\n",
    "validator = Validation(models, hyperparams)\n",
    "validated_data = validator.get_validated_hyperparams()\n",
    "dataloader.backup_hyperparams(validated_data[0], validated_data[1])"
   ]
  },
  {
   "cell_type": "markdown",
   "id": "55a546f4",
   "metadata": {},
   "source": [
    "Пример загрузки и обработки некорректных данных"
   ]
  },
  {
   "cell_type": "code",
   "execution_count": 2,
   "id": "b9cb613f",
   "metadata": {},
   "outputs": [
    {
     "name": "stdout",
     "output_type": "stream",
     "text": [
      "croston_tsb_min_alpha - некорректное значение -1, заменено на 0\n",
      "croston_tsb_max_alpha - некорректное значение 100, заменено на 1\n",
      "croston_tsb_min_beta - некорректное значение 100, заменено на 0\n",
      "croston_tsb_max_beta - некорректное значение -50, заменено на 1\n",
      "croston_tsb_step - некорректное значение 1.5, заменено на 0.1\n",
      "Проверка croston_tsb прошла успешно\n",
      "elastic_net_min_alpha - некорректное значение -1, заменено на 0\n",
      "elastic_net_max_alpha - некорректное значение 100, заменено на 1\n",
      "elastic_net_min_l1 - некорректное значение -1, заменено на 0\n",
      "elastic_net_max_l1 - некорректное значение 100, заменено на 1\n",
      "Проверка elastic_net прошла успешно\n",
      "exp_smoothing_max_alpha - некорректное значение 0, заменено на 1\n",
      "Проверка exp_smoothing прошла успешно\n",
      "Проверка holt прошла успешно\n",
      "holt_winters_trend_types - В списке находятся недопустимые значения\n",
      "Ошибка при проверке гиперпараметров модели Holt Winters. Проверьте значения trend_types. Допустимые значения: add, mul, None.\n",
      "Проверка huber прошла успешно\n",
      "Проверка lasso прошла успешно\n",
      "Проверка polynomial прошла успешно\n",
      "Проверка ransac прошла успешно\n",
      "Проверка ridge прошла успешно\n",
      "rol_mean_weights_type - В списке находятся недопустимые значения\n",
      "Ошибка при проверке гиперпараметров модели Rol Mean. Проверьте значения weights_type. Допустимые значения: new.\n",
      "Проверка theil_sen прошла успешно\n",
      "Проверка const прошла успешно\n",
      "learning_rate - некорректное значение 20, заменено на 0.03\n",
      "Проверка catboost прошла успешно\n",
      "Проверка sarima прошла успешно\n",
      "Проверка prophet прошла успешно\n",
      "Проверка random_forest прошла успешно\n",
      "Проверка symfit_fourier_fft прошла успешно\n"
     ]
    },
    {
     "data": {
      "text/plain": [
       "'2025_06_30_12_38_back_up_om_incorrect.csv'"
      ]
     },
     "execution_count": 2,
     "metadata": {},
     "output_type": "execute_result"
    }
   ],
   "source": [
    "dataloader = DataLoader(\"om_incorrect.csv\")\n",
    "models, hyperparams = dataloader.load_hyperparams_from_optimacros()\n",
    "validator = Validation(models, hyperparams)\n",
    "validated_data = validator.get_validated_hyperparams()\n",
    "dataloader.backup_hyperparams(validated_data[0], validated_data[1])"
   ]
  }
 ],
 "metadata": {
  "kernelspec": {
   "display_name": "base",
   "language": "python",
   "name": "python3"
  },
  "language_info": {
   "codemirror_mode": {
    "name": "ipython",
    "version": 3
   },
   "file_extension": ".py",
   "mimetype": "text/x-python",
   "name": "python",
   "nbconvert_exporter": "python",
   "pygments_lexer": "ipython3",
   "version": "3.12.7"
  }
 },
 "nbformat": 4,
 "nbformat_minor": 5
}
